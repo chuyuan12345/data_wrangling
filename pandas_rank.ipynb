{
 "cells": [
  {
   "cell_type": "code",
   "execution_count": 4,
   "metadata": {},
   "outputs": [],
   "source": [
    "import pandas as pd"
   ]
  },
  {
   "cell_type": "code",
   "execution_count": 5,
   "metadata": {},
   "outputs": [],
   "source": [
    "# Create a dataframe\n",
    "df = pd.DataFrame({\n",
    "   'Name': ['John', 'Alex', 'David', 'Jessica', 'Linda'],\n",
    "   'Score': [70, 80, 60, 90, 70]\n",
    "})"
   ]
  },
  {
   "cell_type": "code",
   "execution_count": 5,
   "metadata": {},
   "outputs": [],
   "source": [
    "# rank\n",
    "df['Rank'] = df['Score'].rank(ascending=False)\n",
    "\n",
    "# dense rank\n",
    "df['Dense_Rank'] = df['Score'].rank(method='dense', ascending=False)\n",
    "\n",
    "# max rank\n",
    "df['Max_Rank'] = df['Score'].rank(method='max', ascending=False)\n",
    "\n",
    "# min rank\n",
    "df['Min_Rank'] = df['Score'].rank(method='dense', ascending=False)\n",
    "\n",
    "# dense rank\n",
    "df['Dense_Rank'] = df['Score'].rank(method='dense', ascending=False)\n",
    "\n",
    "# dense rank\n",
    "df['Dense_Rank'] = df['Score'].rank(method='dense', ascending=False)\n",
    "\n",
    "# dense rank\n",
    "df['Dense_Rank'] = df['Score'].rank(method='dense', ascending=False)\n",
    "\n",
    "# Print the dataframe\n",
    "print(df)"
   ]
  }
 ],
 "metadata": {
  "kernelspec": {
   "display_name": "Python 3",
   "language": "python",
   "name": "python3"
  },
  "language_info": {
   "codemirror_mode": {
    "name": "ipython",
    "version": 3
   },
   "file_extension": ".py",
   "mimetype": "text/x-python",
   "name": "python",
   "nbconvert_exporter": "python",
   "pygments_lexer": "ipython3",
   "version": "3.7.6"
  }
 },
 "nbformat": 4,
 "nbformat_minor": 4
}
