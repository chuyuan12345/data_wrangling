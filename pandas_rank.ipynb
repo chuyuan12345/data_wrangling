{
 "cells": [
  {
   "cell_type": "code",
   "execution_count": 15,
   "metadata": {},
   "outputs": [],
   "source": [
    "import pandas as pd"
   ]
  },
  {
   "cell_type": "code",
   "execution_count": 16,
   "metadata": {},
   "outputs": [],
   "source": [
    "# Create a dataframe\n",
    "df = pd.DataFrame({\n",
    "   'Name': ['John', 'Alex', 'David', 'Jessica', 'Linda'],\n",
    "   'Score': [70, 80, 60, 90, 70]\n",
    "})"
   ]
  },
  {
   "cell_type": "code",
   "execution_count": 17,
   "metadata": {},
   "outputs": [
    {
     "name": "stdout",
     "output_type": "stream",
     "text": [
      "      Name  Score  Rank  Dense_Rank  Max_Rank  Min_Rank  Average_Rank  \\\n",
      "0     John     70   3.5         3.0       4.0       3.0           3.5   \n",
      "1     Alex     80   2.0         2.0       2.0       2.0           2.0   \n",
      "2    David     60   5.0         4.0       5.0       5.0           5.0   \n",
      "3  Jessica     90   1.0         1.0       1.0       1.0           1.0   \n",
      "4    Linda     70   3.5         3.0       4.0       3.0           3.5   \n",
      "\n",
      "   First_Rank  Percentile_Rank  \n",
      "0         3.0              0.7  \n",
      "1         2.0              0.4  \n",
      "2         5.0              1.0  \n",
      "3         1.0              0.2  \n",
      "4         4.0              0.7  \n"
     ]
    }
   ],
   "source": [
    "# rank\n",
    "df['Rank'] = df['Score'].rank(ascending=False)\n",
    "\n",
    "# dense rank\n",
    "df['Dense_Rank'] = df['Score'].rank(method='dense', ascending=False)\n",
    "\n",
    "# max rank\n",
    "df['Max_Rank'] = df['Score'].rank(method='max', ascending=False)\n",
    "\n",
    "# min rank\n",
    "df['Min_Rank'] = df['Score'].rank(method='min', ascending=False)\n",
    "\n",
    "# average rank\n",
    "df['Average_Rank'] = df['Score'].rank(method='average', ascending=False)\n",
    "\n",
    "# first rank\n",
    "df['First_Rank'] = df['Score'].rank(method='first', ascending=False)\n",
    "\n",
    "# pct rank\n",
    "df['Percentile_Rank'] = df['Score'].rank(pct=True, ascending=False)\n",
    "\n",
    "# Print the dataframe\n",
    "print(df)"
   ]
  },
  {
   "cell_type": "code",
   "execution_count": null,
   "metadata": {},
   "outputs": [],
   "source": []
  }
 ],
 "metadata": {
  "kernelspec": {
   "display_name": "Python 3",
   "language": "python",
   "name": "python3"
  },
  "language_info": {
   "codemirror_mode": {
    "name": "ipython",
    "version": 3
   },
   "file_extension": ".py",
   "mimetype": "text/x-python",
   "name": "python",
   "nbconvert_exporter": "python",
   "pygments_lexer": "ipython3",
   "version": "3.7.6"
  }
 },
 "nbformat": 4,
 "nbformat_minor": 4
}
